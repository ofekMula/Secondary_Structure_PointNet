{
  "nbformat": 4,
  "nbformat_minor": 0,
  "metadata": {
    "colab": {
      "name": "Running_Pointnet_Final_git.ipynb",
      "provenance": [],
      "collapsed_sections": [],
      "toc_visible": true,
      "include_colab_link": true
    },
    "kernelspec": {
      "name": "python3",
      "display_name": "Python 3"
    },
    "accelerator": "GPU"
  },
  "cells": [
    {
      "cell_type": "markdown",
      "metadata": {
        "id": "view-in-github",
        "colab_type": "text"
      },
      "source": [
        "<a href=\"https://colab.research.google.com/github/ofekMula/Secondary_Structure_PointNet/blob/final_project/Running_Pointnet_Final_git.ipynb\" target=\"_parent\"><img src=\"https://colab.research.google.com/assets/colab-badge.svg\" alt=\"Open In Colab\"/></a>"
      ]
    },
    {
      "cell_type": "markdown",
      "metadata": {
        "id": "bqSVPSLKodsC"
      },
      "source": [
        "This notebook runs all our PointNet applications for proteins.\n",
        "# **1. Preparation**\n",
        "We download needed programs & code.\n"
      ]
    },
    {
      "cell_type": "code",
      "metadata": {
        "id": "1kspMWXooYtT"
      },
      "source": [
        "!pip install tensorflow==1.0.1"
      ],
      "execution_count": null,
      "outputs": []
    },
    {
      "cell_type": "code",
      "metadata": {
        "id": "0vBgNjEeo3Zz"
      },
      "source": [
        "!git clone https://github.com/ofekMula/Secondary_Structure_PointNet"
      ],
      "execution_count": null,
      "outputs": []
    },
    {
      "cell_type": "code",
      "metadata": {
        "id": "3-Dc8Wc4qRzP"
      },
      "source": [
        "cd ./Secondary_Structure_PointNet"
      ],
      "execution_count": null,
      "outputs": []
    },
    {
      "cell_type": "code",
      "metadata": {
        "id": "O_ahQ7H8pSrd"
      },
      "source": [
        "!pip install biopython"
      ],
      "execution_count": null,
      "outputs": []
    },
    {
      "cell_type": "code",
      "metadata": {
        "id": "zYslUg8KpVAZ"
      },
      "source": [
        "!sudo apt-get install dssp"
      ],
      "execution_count": null,
      "outputs": []
    },
    {
      "cell_type": "markdown",
      "metadata": {
        "id": "GGVzAJLqpaMT"
      },
      "source": [
        "# **2. Restoring the database**"
      ]
    },
    {
      "cell_type": "markdown",
      "metadata": {
        "id": "r3lgQ5E-p2wH"
      },
      "source": [
        "We should enter the wanted folder, using one of the following three commands.\n",
        "\n",
        "If during any stage you want to return to main folder, type \"cd ..\".\n",
        "To see your location, type \"pwd\"."
      ]
    },
    {
      "cell_type": "code",
      "metadata": {
        "id": "CWe72c9NprxD"
      },
      "source": [
        "cd ./PointNet8"
      ],
      "execution_count": null,
      "outputs": []
    },
    {
      "cell_type": "code",
      "metadata": {
        "id": "upASFiqwq63z"
      },
      "source": [
        "cd ./PointNet3"
      ],
      "execution_count": null,
      "outputs": []
    },
    {
      "cell_type": "code",
      "metadata": {
        "id": "sCvMmFnDrAYg"
      },
      "source": [
        "cd ./LocalPointNet3"
      ],
      "execution_count": null,
      "outputs": []
    },
    {
      "cell_type": "code",
      "metadata": {
        "id": "CnvPQDv8KL4C"
      },
      "source": [
        "cd .."
      ],
      "execution_count": null,
      "outputs": []
    },
    {
      "cell_type": "markdown",
      "metadata": {
        "id": "uv2Ji6pEsIQd"
      },
      "source": [
        "The database should be created in \"./Protein_Info\".\n",
        "\n",
        "\n",
        "\n",
        "1.  If you want to use our prepared database, use the following command (unzip Protein_Info_3_10k)."
      ]
    },
    {
      "cell_type": "code",
      "metadata": {
        "id": "vdUmuSLotgJp"
      },
      "source": [
        "!mkdir ./Proteins_Info\n",
        "!unzip ./Proteins_Info_3_10k.zip -d ./"
      ],
      "execution_count": null,
      "outputs": []
    },
    {
      "cell_type": "markdown",
      "metadata": {
        "id": "HhHBIWx725lG"
      },
      "source": [
        "2.   If you want to create your own database, use \"Protein_utils.py\" with the relevant number of proteins to be used. The proteins are chosen from \"list_pdbs.txt\" - you can edit it to choose different proteins."
      ]
    },
    {
      "cell_type": "code",
      "metadata": {
        "id": "sl_Iku0QtuNT"
      },
      "source": [
        "!python3 ./protein_utils.py --num_proteins 20"
      ],
      "execution_count": null,
      "outputs": []
    },
    {
      "cell_type": "markdown",
      "metadata": {
        "id": "_Tm6in6ruhRH"
      },
      "source": [
        "If you want to download the database you created, use the following command."
      ]
    },
    {
      "cell_type": "code",
      "metadata": {
        "id": "P-gIkJM4uoBe"
      },
      "source": [
        "!zip -r ./Proteins_database.zip ./Proteins_Info\n",
        "from google.colab import files\n",
        "files.download(\"./Proteins_database.zip\")"
      ],
      "execution_count": null,
      "outputs": []
    },
    {
      "cell_type": "markdown",
      "metadata": {
        "id": "z6VRF2J4vBAx"
      },
      "source": [
        "# **3. Training**\n",
        "\n",
        "Use the following command to train your model.\n"
      ]
    },
    {
      "cell_type": "code",
      "metadata": {
        "id": "ZaLVQm_zv8hR"
      },
      "source": [
        "!python ./train.py --log_dir log --max_epoch 30 --batch_size 24 --num_proteins 1000"
      ],
      "execution_count": null,
      "outputs": []
    },
    {
      "cell_type": "markdown",
      "metadata": {
        "id": "PxKldyjCxoQn"
      },
      "source": [
        "# **4. Testing**\n",
        "\n",
        "Test your model on a single protein (and a chain).\n",
        "The real secondary structure of the protein can be found using the following command."
      ]
    },
    {
      "cell_type": "code",
      "metadata": {
        "id": "9BBpA9qNqFz-"
      },
      "source": [
        "from protein_utils import *\n",
        "pdb_name = \"3h3m\"\n",
        "num_chain = 'A'\n",
        "pdb_file_name = pdb_name + \".pdb\"\n",
        "\n",
        "structure, chain_prot  = download_and_parse_pdb(pdb_name, num_chain)\n",
        "_, real_label = list_of_residue_labels(pdb_name, structure, num_chain, chain_prot)\n",
        "print(real_label)\n",
        "print(len(real_label))"
      ],
      "execution_count": null,
      "outputs": []
    },
    {
      "cell_type": "markdown",
      "metadata": {
        "id": "XaVWeN8JxelS"
      },
      "source": [
        "The predicted secondary structure can be found using the following command."
      ]
    },
    {
      "cell_type": "code",
      "metadata": {
        "id": "2NRqWTKxyby-"
      },
      "source": [
        "!python ./test.py --model_path ./log/model.ckpt --dump_dir ./log/dump --output_file ./log/output_file.txt --input_pdb_chain 3h3m_A\n",
        "##predicitions saved to \"pred_label\""
      ],
      "execution_count": null,
      "outputs": []
    }
  ]
}